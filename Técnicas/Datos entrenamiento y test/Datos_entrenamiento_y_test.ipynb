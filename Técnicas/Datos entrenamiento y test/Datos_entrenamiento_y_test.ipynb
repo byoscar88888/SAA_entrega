{
  "nbformat": 4,
  "nbformat_minor": 0,
  "metadata": {
    "colab": {
      "provenance": [],
      "authorship_tag": "ABX9TyNIWAZteyUaysBbfcP9m1iu",
      "include_colab_link": true
    },
    "kernelspec": {
      "name": "python3",
      "display_name": "Python 3"
    },
    "language_info": {
      "name": "python"
    }
  },
  "cells": [
    {
      "cell_type": "markdown",
      "metadata": {
        "id": "view-in-github",
        "colab_type": "text"
      },
      "source": [
        "<a href=\"https://colab.research.google.com/github/byoscar88888/SAA_entrega/blob/main/T%C3%A9cnicas/Datos%20entrenamiento%20y%20test/Datos_entrenamiento_y_test.ipynb\" target=\"_parent\"><img src=\"https://colab.research.google.com/assets/colab-badge.svg\" alt=\"Open In Colab\"/></a>"
      ]
    },
    {
      "cell_type": "code",
      "execution_count": null,
      "metadata": {
        "id": "wY7-vOC1Ll9M"
      },
      "outputs": [],
      "source": [
        "%%capture\n",
        "!pip install tensorflow scikit-learn\n"
      ]
    },
    {
      "cell_type": "code",
      "source": [
        "import numpy as np\n",
        "from sklearn.datasets import load_iris\n",
        "from sklearn.model_selection import train_test_split\n",
        "from sklearn.preprocessing import StandardScaler\n",
        "from sklearn.svm import SVC\n",
        "from sklearn.metrics import accuracy_score\n",
        "\n",
        "# Cargamos el conjunto de datos Iris\n",
        "iris = load_iris()\n",
        "X = iris.data\n",
        "y = iris.target\n",
        "\n",
        "# Dividimos los datos en conjuntos de entrenamiento y prueba\n",
        "X_train, X_test, y_train, y_test = train_test_split(X, y, test_size=0.2, random_state=42)\n",
        "\n",
        "# Escalamos los datos\n",
        "scaler = StandardScaler()\n",
        "X_train_scaled = scaler.fit_transform(X_train)\n",
        "X_test_scaled = scaler.transform(X_test)\n",
        "\n",
        "# Creamos y entrenamos un modelo de SVM\n",
        "svm_model = SVC(kernel='rbf', C=1, gamma='auto')\n",
        "svm_model.fit(X_train_scaled, y_train)\n",
        "\n",
        "# Evaluamos el modelo en el conjunto de entrenamiento\n",
        "y_train_pred = svm_model.predict(X_train_scaled)\n",
        "train_accuracy = accuracy_score(y_train, y_train_pred)\n",
        "print(\"Precisión en el conjunto de entrenamiento:\", train_accuracy)\n",
        "\n",
        "# Evaluamos el modelo en el conjunto de prueba\n",
        "y_test_pred = svm_model.predict(X_test_scaled)\n",
        "test_accuracy = accuracy_score(y_test, y_test_pred)\n",
        "print(\"Precisión en el conjunto de prueba:\", test_accuracy)\n"
      ],
      "metadata": {
        "colab": {
          "base_uri": "https://localhost:8080/"
        },
        "id": "9SiBvkQiLmas",
        "outputId": "d2568cef-c282-41ad-8298-122f6812c34f"
      },
      "execution_count": null,
      "outputs": [
        {
          "output_type": "stream",
          "name": "stdout",
          "text": [
            "Precisión en el conjunto de entrenamiento: 0.9666666666666667\n",
            "Precisión en el conjunto de prueba: 1.0\n"
          ]
        }
      ]
    }
  ]
}